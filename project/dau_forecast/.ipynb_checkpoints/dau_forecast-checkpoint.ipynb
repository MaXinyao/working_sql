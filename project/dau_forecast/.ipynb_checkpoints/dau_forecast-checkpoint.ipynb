{
 "cells": [
  {
   "cell_type": "code",
   "execution_count": 82,
   "metadata": {},
   "outputs": [],
   "source": [
    "import pandas as pd\n",
    "import numpy as np\n",
    "from sklearn.linear_model import LinearRegression\n",
    "import matplotlib.pyplot as plt\n",
    "\n",
    "pd.set_option('display.float_format', lambda x: '%.3f' % x)"
   ]
  },
  {
   "cell_type": "code",
   "execution_count": 83,
   "metadata": {},
   "outputs": [],
   "source": [
    "df = pd.read_csv('Block Puzzle 增长看板 - temp.csv')"
   ]
  },
  {
   "cell_type": "code",
   "execution_count": 84,
   "metadata": {},
   "outputs": [
    {
     "data": {
      "text/html": [
       "<div>\n",
       "<style scoped>\n",
       "    .dataframe tbody tr th:only-of-type {\n",
       "        vertical-align: middle;\n",
       "    }\n",
       "\n",
       "    .dataframe tbody tr th {\n",
       "        vertical-align: top;\n",
       "    }\n",
       "\n",
       "    .dataframe thead th {\n",
       "        text-align: right;\n",
       "    }\n",
       "</style>\n",
       "<table border=\"1\" class=\"dataframe\">\n",
       "  <thead>\n",
       "    <tr style=\"text-align: right;\">\n",
       "      <th></th>\n",
       "      <th>date</th>\n",
       "      <th>silence</th>\n",
       "      <th>active</th>\n",
       "      <th>new</th>\n",
       "      <th>dau</th>\n",
       "      <th>d1_active_retention</th>\n",
       "      <th>d1_new_retention</th>\n",
       "      <th>d7_active_retention</th>\n",
       "      <th>d7_new_retention</th>\n",
       "      <th>next_dau</th>\n",
       "    </tr>\n",
       "  </thead>\n",
       "  <tbody>\n",
       "    <tr>\n",
       "      <th>0</th>\n",
       "      <td>2020/8/2</td>\n",
       "      <td>148733</td>\n",
       "      <td>1139788</td>\n",
       "      <td>77121</td>\n",
       "      <td>1365642</td>\n",
       "      <td>0.637</td>\n",
       "      <td>0.423</td>\n",
       "      <td>0.525</td>\n",
       "      <td>0.208</td>\n",
       "      <td>1348187</td>\n",
       "    </tr>\n",
       "    <tr>\n",
       "      <th>1</th>\n",
       "      <td>2020/8/3</td>\n",
       "      <td>104713</td>\n",
       "      <td>1174081</td>\n",
       "      <td>69393</td>\n",
       "      <td>1348187</td>\n",
       "      <td>0.629</td>\n",
       "      <td>0.415</td>\n",
       "      <td>0.529</td>\n",
       "      <td>0.211</td>\n",
       "      <td>1339856</td>\n",
       "    </tr>\n",
       "    <tr>\n",
       "      <th>2</th>\n",
       "      <td>2020/8/4</td>\n",
       "      <td>96914</td>\n",
       "      <td>1173334</td>\n",
       "      <td>69608</td>\n",
       "      <td>1339856</td>\n",
       "      <td>0.646</td>\n",
       "      <td>0.429</td>\n",
       "      <td>0.542</td>\n",
       "      <td>0.210</td>\n",
       "      <td>1334560</td>\n",
       "    </tr>\n",
       "    <tr>\n",
       "      <th>3</th>\n",
       "      <td>2020/8/5</td>\n",
       "      <td>94268</td>\n",
       "      <td>1172861</td>\n",
       "      <td>67431</td>\n",
       "      <td>1334560</td>\n",
       "      <td>0.652</td>\n",
       "      <td>0.440</td>\n",
       "      <td>0.548</td>\n",
       "      <td>0.216</td>\n",
       "      <td>1327939</td>\n",
       "    </tr>\n",
       "    <tr>\n",
       "      <th>4</th>\n",
       "      <td>2020/8/6</td>\n",
       "      <td>94473</td>\n",
       "      <td>1164967</td>\n",
       "      <td>68499</td>\n",
       "      <td>1327939</td>\n",
       "      <td>0.650</td>\n",
       "      <td>0.425</td>\n",
       "      <td>0.550</td>\n",
       "      <td>0.207</td>\n",
       "      <td>1315414</td>\n",
       "    </tr>\n",
       "    <tr>\n",
       "      <th>5</th>\n",
       "      <td>2020/8/7</td>\n",
       "      <td>96230</td>\n",
       "      <td>1152171</td>\n",
       "      <td>67013</td>\n",
       "      <td>1315414</td>\n",
       "      <td>0.646</td>\n",
       "      <td>0.426</td>\n",
       "      <td>0.552</td>\n",
       "      <td>0.207</td>\n",
       "      <td>1296850</td>\n",
       "    </tr>\n",
       "    <tr>\n",
       "      <th>6</th>\n",
       "      <td>2020/8/8</td>\n",
       "      <td>103343</td>\n",
       "      <td>1127791</td>\n",
       "      <td>65716</td>\n",
       "      <td>1296850</td>\n",
       "      <td>0.633</td>\n",
       "      <td>0.412</td>\n",
       "      <td>0.548</td>\n",
       "      <td>0.203</td>\n",
       "      <td>1311300</td>\n",
       "    </tr>\n",
       "    <tr>\n",
       "      <th>7</th>\n",
       "      <td>2020/8/9</td>\n",
       "      <td>92924</td>\n",
       "      <td>1146851</td>\n",
       "      <td>71525</td>\n",
       "      <td>1311300</td>\n",
       "      <td>0.639</td>\n",
       "      <td>0.417</td>\n",
       "      <td>0.540</td>\n",
       "      <td>0.205</td>\n",
       "      <td>1308726</td>\n",
       "    </tr>\n",
       "    <tr>\n",
       "      <th>8</th>\n",
       "      <td>2020/8/10</td>\n",
       "      <td>85073</td>\n",
       "      <td>1155885</td>\n",
       "      <td>67768</td>\n",
       "      <td>1308726</td>\n",
       "      <td>0.634</td>\n",
       "      <td>0.406</td>\n",
       "      <td>0.545</td>\n",
       "      <td>0.208</td>\n",
       "      <td>1312995</td>\n",
       "    </tr>\n",
       "    <tr>\n",
       "      <th>9</th>\n",
       "      <td>2020/8/11</td>\n",
       "      <td>83372</td>\n",
       "      <td>1160774</td>\n",
       "      <td>68849</td>\n",
       "      <td>1312995</td>\n",
       "      <td>0.654</td>\n",
       "      <td>0.423</td>\n",
       "      <td>0.553</td>\n",
       "      <td>0.203</td>\n",
       "      <td>1320917</td>\n",
       "    </tr>\n",
       "  </tbody>\n",
       "</table>\n",
       "</div>"
      ],
      "text/plain": [
       "        date  silence   active    new      dau  d1_active_retention  \\\n",
       "0   2020/8/2   148733  1139788  77121  1365642                0.637   \n",
       "1   2020/8/3   104713  1174081  69393  1348187                0.629   \n",
       "2   2020/8/4    96914  1173334  69608  1339856                0.646   \n",
       "3   2020/8/5    94268  1172861  67431  1334560                0.652   \n",
       "4   2020/8/6    94473  1164967  68499  1327939                0.650   \n",
       "5   2020/8/7    96230  1152171  67013  1315414                0.646   \n",
       "6   2020/8/8   103343  1127791  65716  1296850                0.633   \n",
       "7   2020/8/9    92924  1146851  71525  1311300                0.639   \n",
       "8  2020/8/10    85073  1155885  67768  1308726                0.634   \n",
       "9  2020/8/11    83372  1160774  68849  1312995                0.654   \n",
       "\n",
       "   d1_new_retention  d7_active_retention  d7_new_retention  next_dau  \n",
       "0             0.423                0.525             0.208   1348187  \n",
       "1             0.415                0.529             0.211   1339856  \n",
       "2             0.429                0.542             0.210   1334560  \n",
       "3             0.440                0.548             0.216   1327939  \n",
       "4             0.425                0.550             0.207   1315414  \n",
       "5             0.426                0.552             0.207   1296850  \n",
       "6             0.412                0.548             0.203   1311300  \n",
       "7             0.417                0.540             0.205   1308726  \n",
       "8             0.406                0.545             0.208   1312995  \n",
       "9             0.423                0.553             0.203   1320917  "
      ]
     },
     "execution_count": 84,
     "metadata": {},
     "output_type": "execute_result"
    }
   ],
   "source": [
    "df.head(10)"
   ]
  },
  {
   "cell_type": "code",
   "execution_count": 85,
   "metadata": {},
   "outputs": [],
   "source": [
    "df['date'] = df['date'].astype('datetime64')"
   ]
  },
  {
   "cell_type": "code",
   "execution_count": 86,
   "metadata": {},
   "outputs": [
    {
     "data": {
      "text/plain": [
       "LinearRegression()"
      ]
     },
     "execution_count": 86,
     "metadata": {},
     "output_type": "execute_result"
    }
   ],
   "source": [
    "x = df[df['date']<='2020-09-30'][['silence','active','new','d1_active_retention','d1_new_retention','d7_active_retention','d7_new_retention']]\n",
    "y = df[df['date']<='2020-09-30']['next_dau']\n",
    "lrModel = LinearRegression()\n",
    "lrModel.fit(x,y)"
   ]
  },
  {
   "cell_type": "code",
   "execution_count": 87,
   "metadata": {},
   "outputs": [
    {
     "data": {
      "text/plain": [
       "array([ 9.19064796e-01,  9.84502601e-01,  1.31665543e+00, -1.16418987e+06,\n",
       "        2.63793634e+05,  1.19246184e+06, -7.06222559e+05])"
      ]
     },
     "execution_count": 87,
     "metadata": {},
     "output_type": "execute_result"
    }
   ],
   "source": [
    "lrModel.coef_"
   ]
  },
  {
   "cell_type": "code",
   "execution_count": 88,
   "metadata": {},
   "outputs": [
    {
     "data": {
      "text/plain": [
       "133425.6536491653"
      ]
     },
     "execution_count": 88,
     "metadata": {},
     "output_type": "execute_result"
    }
   ],
   "source": [
    "lrModel.intercept_"
   ]
  },
  {
   "cell_type": "code",
   "execution_count": 89,
   "metadata": {},
   "outputs": [
    {
     "data": {
      "text/plain": [
       "0.9545092881411719"
      ]
     },
     "execution_count": 89,
     "metadata": {},
     "output_type": "execute_result"
    }
   ],
   "source": [
    "lrModel.score(x,y)"
   ]
  },
  {
   "cell_type": "code",
   "execution_count": 90,
   "metadata": {},
   "outputs": [],
   "source": [
    "y_predicted = lrModel.predict(x)"
   ]
  },
  {
   "cell_type": "code",
   "execution_count": 91,
   "metadata": {},
   "outputs": [
    {
     "data": {
      "image/png": "[encoded data removed]",
      "text/plain": [
       "<Figure size 432x288 with 1 Axes>"
      ]
     },
     "metadata": {
      "needs_background": "light"
     },
     "output_type": "display_data"
    }
   ],
   "source": [
    "plt.plot(y,'b-')\n",
    "plt.plot(y_predicted,'r--')\n",
    "plt.show()"
   ]
  },
  {
   "cell_type": "code",
   "execution_count": 92,
   "metadata": {},
   "outputs": [
    {
     "data": {
      "image/png": "[encoded data removed]",
      "text/plain": [
       "<Figure size 432x288 with 1 Axes>"
      ]
     },
     "metadata": {
      "needs_background": "light"
     },
     "output_type": "display_data"
    }
   ],
   "source": [
    "y_test = df[df['date']>'2020-09-30']['next_dau'].tolist()\n",
    "x_test = df[df['date']>'2020-09-30'][['silence','active','new','d1_active_retention','d1_new_retention','d7_active_retention','d7_new_retention']]\n",
    "y_test_predict = lrModel.predict(x_test)\n",
    "plt.plot(y_test,'b-')\n",
    "plt.plot(y_test_predict,'r--')\n",
    "plt.show()"
   ]
  },
  {
   "cell_type": "code",
   "execution_count": 93,
   "metadata": {},
   "outputs": [],
   "source": [
    "# output = [y_test,y_test_predict.tolist()]\n",
    "output = pd.DataFrame(y_test,columns=['y_test'])\n",
    "output['y_test_predict'] = y_test_predict.tolist()"
   ]
  },
  {
   "cell_type": "code",
   "execution_count": 94,
   "metadata": {},
   "outputs": [
    {
     "data": {
      "text/html": [
       "<div>\n",
       "<style scoped>\n",
       "    .dataframe tbody tr th:only-of-type {\n",
       "        vertical-align: middle;\n",
       "    }\n",
       "\n",
       "    .dataframe tbody tr th {\n",
       "        vertical-align: top;\n",
       "    }\n",
       "\n",
       "    .dataframe thead th {\n",
       "        text-align: right;\n",
       "    }\n",
       "</style>\n",
       "<table border=\"1\" class=\"dataframe\">\n",
       "  <thead>\n",
       "    <tr style=\"text-align: right;\">\n",
       "      <th></th>\n",
       "      <th>y_test</th>\n",
       "      <th>y_test_predict</th>\n",
       "      <th>diff</th>\n",
       "    </tr>\n",
       "  </thead>\n",
       "  <tbody>\n",
       "    <tr>\n",
       "      <th>0</th>\n",
       "      <td>1194824</td>\n",
       "      <td>1214170.995</td>\n",
       "      <td>19346.995</td>\n",
       "    </tr>\n",
       "    <tr>\n",
       "      <th>1</th>\n",
       "      <td>1217818</td>\n",
       "      <td>1211926.103</td>\n",
       "      <td>-5891.897</td>\n",
       "    </tr>\n",
       "    <tr>\n",
       "      <th>2</th>\n",
       "      <td>1249004</td>\n",
       "      <td>1239026.116</td>\n",
       "      <td>-9977.884</td>\n",
       "    </tr>\n",
       "    <tr>\n",
       "      <th>3</th>\n",
       "      <td>1240808</td>\n",
       "      <td>1246385.762</td>\n",
       "      <td>5577.762</td>\n",
       "    </tr>\n",
       "    <tr>\n",
       "      <th>4</th>\n",
       "      <td>1239010</td>\n",
       "      <td>1242589.662</td>\n",
       "      <td>3579.662</td>\n",
       "    </tr>\n",
       "    <tr>\n",
       "      <th>5</th>\n",
       "      <td>1254280</td>\n",
       "      <td>1236201.660</td>\n",
       "      <td>-18078.340</td>\n",
       "    </tr>\n",
       "    <tr>\n",
       "      <th>6</th>\n",
       "      <td>1253938</td>\n",
       "      <td>1250446.432</td>\n",
       "      <td>-3491.568</td>\n",
       "    </tr>\n",
       "    <tr>\n",
       "      <th>7</th>\n",
       "      <td>1245792</td>\n",
       "      <td>1248866.725</td>\n",
       "      <td>3074.725</td>\n",
       "    </tr>\n",
       "    <tr>\n",
       "      <th>8</th>\n",
       "      <td>1235720</td>\n",
       "      <td>1248411.709</td>\n",
       "      <td>12691.709</td>\n",
       "    </tr>\n",
       "    <tr>\n",
       "      <th>9</th>\n",
       "      <td>1264670</td>\n",
       "      <td>1258051.450</td>\n",
       "      <td>-6618.550</td>\n",
       "    </tr>\n",
       "    <tr>\n",
       "      <th>10</th>\n",
       "      <td>1277260</td>\n",
       "      <td>1264723.989</td>\n",
       "      <td>-12536.011</td>\n",
       "    </tr>\n",
       "    <tr>\n",
       "      <th>11</th>\n",
       "      <td>1270081</td>\n",
       "      <td>1277256.029</td>\n",
       "      <td>7175.029</td>\n",
       "    </tr>\n",
       "    <tr>\n",
       "      <th>12</th>\n",
       "      <td>1274443</td>\n",
       "      <td>1266481.385</td>\n",
       "      <td>-7961.615</td>\n",
       "    </tr>\n",
       "    <tr>\n",
       "      <th>13</th>\n",
       "      <td>1274669</td>\n",
       "      <td>1267238.087</td>\n",
       "      <td>-7430.913</td>\n",
       "    </tr>\n",
       "    <tr>\n",
       "      <th>14</th>\n",
       "      <td>1286213</td>\n",
       "      <td>1272762.069</td>\n",
       "      <td>-13450.931</td>\n",
       "    </tr>\n",
       "    <tr>\n",
       "      <th>15</th>\n",
       "      <td>1287547</td>\n",
       "      <td>1290339.064</td>\n",
       "      <td>2792.064</td>\n",
       "    </tr>\n",
       "    <tr>\n",
       "      <th>16</th>\n",
       "      <td>1311736</td>\n",
       "      <td>1310081.362</td>\n",
       "      <td>-1654.638</td>\n",
       "    </tr>\n",
       "    <tr>\n",
       "      <th>17</th>\n",
       "      <td>1303384</td>\n",
       "      <td>1311048.914</td>\n",
       "      <td>7664.914</td>\n",
       "    </tr>\n",
       "    <tr>\n",
       "      <th>18</th>\n",
       "      <td>1304666</td>\n",
       "      <td>1307792.343</td>\n",
       "      <td>3126.343</td>\n",
       "    </tr>\n",
       "    <tr>\n",
       "      <th>19</th>\n",
       "      <td>1310643</td>\n",
       "      <td>1305761.514</td>\n",
       "      <td>-4881.486</td>\n",
       "    </tr>\n",
       "    <tr>\n",
       "      <th>20</th>\n",
       "      <td>1295031</td>\n",
       "      <td>1308786.082</td>\n",
       "      <td>13755.082</td>\n",
       "    </tr>\n",
       "    <tr>\n",
       "      <th>21</th>\n",
       "      <td>1293593</td>\n",
       "      <td>1290086.846</td>\n",
       "      <td>-3506.154</td>\n",
       "    </tr>\n",
       "    <tr>\n",
       "      <th>22</th>\n",
       "      <td>1278583</td>\n",
       "      <td>1293240.320</td>\n",
       "      <td>14657.320</td>\n",
       "    </tr>\n",
       "    <tr>\n",
       "      <th>23</th>\n",
       "      <td>1298795</td>\n",
       "      <td>1295228.983</td>\n",
       "      <td>-3566.017</td>\n",
       "    </tr>\n",
       "  </tbody>\n",
       "</table>\n",
       "</div>"
      ],
      "text/plain": [
       "     y_test  y_test_predict       diff\n",
       "0   1194824     1214170.995  19346.995\n",
       "1   1217818     1211926.103  -5891.897\n",
       "2   1249004     1239026.116  -9977.884\n",
       "3   1240808     1246385.762   5577.762\n",
       "4   1239010     1242589.662   3579.662\n",
       "5   1254280     1236201.660 -18078.340\n",
       "6   1253938     1250446.432  -3491.568\n",
       "7   1245792     1248866.725   3074.725\n",
       "8   1235720     1248411.709  12691.709\n",
       "9   1264670     1258051.450  -6618.550\n",
       "10  1277260     1264723.989 -12536.011\n",
       "11  1270081     1277256.029   7175.029\n",
       "12  1274443     1266481.385  -7961.615\n",
       "13  1274669     1267238.087  -7430.913\n",
       "14  1286213     1272762.069 -13450.931\n",
       "15  1287547     1290339.064   2792.064\n",
       "16  1311736     1310081.362  -1654.638\n",
       "17  1303384     1311048.914   7664.914\n",
       "18  1304666     1307792.343   3126.343\n",
       "19  1310643     1305761.514  -4881.486\n",
       "20  1295031     1308786.082  13755.082\n",
       "21  1293593     1290086.846  -3506.154\n",
       "22  1278583     1293240.320  14657.320\n",
       "23  1298795     1295228.983  -3566.017"
      ]
     },
     "execution_count": 94,
     "metadata": {},
     "output_type": "execute_result"
    }
   ],
   "source": [
    "output['diff'] = output['y_test_predict'] - output['y_test']\n",
    "output"
   ]
  },
  {
   "cell_type": "markdown",
   "metadata": {},
   "source": [
    "<h1>test</h1>"
   ]
  },
  {
   "cell_type": "code",
   "execution_count": null,
   "metadata": {},
   "outputs": [],
   "source": []
  }
 ],
 "metadata": {
  "kernelspec": {
   "display_name": "Python 3",
   "language": "python",
   "name": "python3"
  },
  "language_info": {
   "codemirror_mode": {
    "name": "ipython",
    "version": 3
   },
   "file_extension": ".py",
   "mimetype": "text/x-python",
   "name": "python",
   "nbconvert_exporter": "python",
   "pygments_lexer": "ipython3",
   "version": "3.7.7"
  },
  "toc-autonumbering": false,
  "toc-showcode": false,
  "toc-showmarkdowntxt": false,
  "toc-showtags": false
 },
 "nbformat": 4,
 "nbformat_minor": 4
}
