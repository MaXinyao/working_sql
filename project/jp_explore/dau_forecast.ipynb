{
 "cells": [
  {
   "cell_type": "code",
   "execution_count": null,
   "metadata": {},
   "outputs": [],
   "source": [
    "active_partition = await BQService.get_active_by_living_days(production_id, start, start, filters)\n",
    "init = [{'day': a[0], 'user': a[1]} for a in active_partition]\n",
    "init.sort(key=lambda x: x['day'])\n",
    "result = {\n",
    "    'activeList': [{'date': start, 'active': sum([a[1] for a in active_partition])}],\n",
    "    'retention': retention, 'init': init,\n",
    "}\n",
    "_date_start = datetime.datetime.strptime(start, '%Y-%m-%d')\n",
    "_date_end = datetime.datetime.strptime(end, '%Y-%m-%d')\n",
    "for i in range(1, (_date_end - _date_start).days + 1):\n",
    "    for a in active_partition:\n",
    "        a[1] = (a[1] / retention[a[0]] * retention[a[0] + 1] if retention[a[0]] else 0)\\\n",
    "            if len(retention) > a[0] + 1 else a[1]\n",
    "        a[0] += 1\n",
    "    active_partition.append([0, delta])\n",
    "    row = {\n",
    "        'date': (_date_start + datetime.timedelta(i)).strftime('%Y-%m-%d'),\n",
    "        'active': int(sum([a[1] for a in active_partition])),\n",
    "    }\n",
    "    result['activeList'].append(row)"
   ]
  },
  {
   "cell_type": "code",
   "execution_count": 1,
   "metadata": {},
   "outputs": [],
   "source": [
    "import pandas as pd\n",
    "import numpy as np"
   ]
  },
  {
   "cell_type": "code",
   "execution_count": null,
   "metadata": {},
   "outputs": [],
   "source": []
  }
 ],
 "metadata": {
  "kernelspec": {
   "display_name": "Python 3",
   "language": "python",
   "name": "python3"
  },
  "language_info": {
   "codemirror_mode": {
    "name": "ipython",
    "version": 3
   },
   "file_extension": ".py",
   "mimetype": "text/x-python",
   "name": "python",
   "nbconvert_exporter": "python",
   "pygments_lexer": "ipython3",
   "version": "3.7.7"
  }
 },
 "nbformat": 4,
 "nbformat_minor": 4
}
