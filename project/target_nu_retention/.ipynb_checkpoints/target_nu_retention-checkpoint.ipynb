{
 "cells": [
  {
   "cell_type": "code",
   "execution_count": null,
   "metadata": {},
   "outputs": [],
   "source": [
    "import math\n",
    "import sympy\n",
    "from google_auth_oauthlib import flow\n",
    "from google.cloud import bigquery\n",
    "import datetime\n",
    "import pandas as pd\n",
    "import numpy as np\n",
    "import matplotlib. pyplot as plt\n",
    "from scipy.optimize import curve_fit\n",
    "from tqdm.notebook import trange, tqdm\n",
    "import math\n",
    "import seaborn as sns\n",
    "from sklearn.model_selection import train_test_split\n",
    "from sklearn.ensemble import RandomForestClassifier\n",
    "from sklearn import metrics"
   ]
  },
  {
   "cell_type": "code",
   "execution_count": null,
   "metadata": {},
   "outputs": [],
   "source": [
    " config = {\n",
    "    \"installed\": {\n",
    "        \"client_id\": \"331732725904-l8vvj4ud0grr3og2dfns85cfkdq9gajq.apps.googleusercontent.com\",\n",
    "        \"project_id\": \"blockpuzzle-f21e1\", \"auth_uri\": \"https://accounts.google.com/o/oauth2/auth\",\n",
    "        \"token_uri\": \"https://oauth2.googleapis.com/token\",\n",
    "        \"auth_provider_x509_cert_url\": \"https://www.googleapis.com/oauth2/v1/certs\",\n",
    "        \"client_secret\": \"Gr_NGbHFHUgbzZTDXHKAUYML\",\n",
    "        \"redirect_uris\": [\"urn:ietf:wg:oauth:2.0:oob\", \"http://localhost\"]\n",
    "    }\n",
    "}\n",
    " \n",
    "app_flow = flow.InstalledAppFlow.from_client_config(\n",
    "    config, scopes=[\n",
    "        'https://www.googleapis.com/auth/bigquery'\n",
    "    ]\n",
    ")\n",
    "app_flow.run_local_server()\n",
    " \n",
    "credentials = app_flow.credentials\n",
    "project_id = 'blockpuzzle-f21e1'\n",
    "client = bigquery.Client(project=project_id, credentials=credentials)\n",
    "\n",
    "#生成所需sql\n",
    "def get_sql(start_date, end_date):\n",
    "    sql = f\"\"\"\n",
    "    SELECT\n",
    "        COUNT(distinct u.user_pseudo_id) as total_users,\n",
    "        COUNT(distinct a.user_pseudo_id) as total_retended\n",
    "    FROM `blockpuzzle-f21e1.learnings_data_warehouse_android.dim_dwd_action_userProperty_a` u\n",
    "    LEFT JOIN `blockpuzzle-f21e1.learnings_data_warehouse_android.analytics_dm_action_userPrimaryMetric_di_*` a\n",
    "    ON u.user_pseudo_id = a.user_pseudo_id\n",
    "    AND a.date between '2020-11-24' AND '2020-11-30'\n",
    "    AND a.date = DATE_ADD(u.create_date, interval 1 day)\n",
    "    WHERE u.first_country = 'Japan'\n",
    "    AND u.media_source = 'Organic'\n",
    "    AND u.create_date between '{start_date}' and '{end_date}'\n",
    "    \"\"\"\n",
    "    return sql"
   ]
  },
  {
   "cell_type": "code",
   "execution_count": null,
   "metadata": {},
   "outputs": [],
   "source": [
    "START_DATE = ''\n",
    "END_DATE = ''\n",
    "SQL = get_sql(START_DATE, END_DATE)"
   ]
  },
  {
   "cell_type": "code",
   "execution_count": null,
   "metadata": {},
   "outputs": [],
   "source": [
    "result = client.query(SQL).result().to_dataframe()\n",
    "result"
   ]
  },
  {
   "cell_type": "code",
   "execution_count": null,
   "metadata": {},
   "outputs": [],
   "source": [
    "ORGINAL_RETENDED_USER = 1376\n",
    "ORIGINAL_NU = 3149\n",
    "TARGETED_NU = 3129\n",
    "two_sample_z_test_func = f'''({ORGINAL_RETENDED_USER}/{ORIGINAL_NU}-x/{TARGETED_NU})**2/((({ORGINAL_RETENDED_USER}+x)/({ORIGINAL_NU}+{TARGETED_NU}))*(1-(({ORGINAL_RETENDED_USER}+x)/({ORIGINAL_NU}+{TARGETED_NU})))*(1/{ORIGINAL_NU}+1/{TARGETED_NU}))-1.96**2'''\n",
    "\n",
    "TARGETED_RETENDED_USER = sympy.solve(two_sample_z_test_func)[1]\n",
    "ORIGINAL_RETENTION = ORGINAL_RETENDED_USER/ORIGINAL_NU\n",
    "TARGETED_RETENTION = TARGETED_RETENDED_USER/TARGETED_NU\n",
    "print(f'original retention is: {ORIGINAL_RETENTION}, targeted retention is: {TARGETED_RETENTION}')"
   ]
  }
 ],
 "metadata": {
  "kernelspec": {
   "display_name": "Python 3",
   "language": "python",
   "name": "python3"
  },
  "language_info": {
   "codemirror_mode": {
    "name": "ipython",
    "version": 3
   },
   "file_extension": ".py",
   "mimetype": "text/x-python",
   "name": "python",
   "nbconvert_exporter": "python",
   "pygments_lexer": "ipython3",
   "version": "3.7.7"
  }
 },
 "nbformat": 4,
 "nbformat_minor": 4
}
